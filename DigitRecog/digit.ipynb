{
  "cells": [
    {
      "cell_type": "markdown",
      "metadata": {
        "id": "vqNu9am6qqN8"
      },
      "source": [
        "### Importing the dataset"
      ]
    },
    {
      "cell_type": "code",
      "execution_count": 1,
      "metadata": {
        "id": "sQsJ3xNDqqOH"
      },
      "outputs": [],
      "source": [
        "import os\n",
        "import cv2\n",
        "import numpy as np\n",
        "import matplotlib.pyplot as plt\n",
        "import keras\n",
        "import tensorflow as tf\n",
        "from keras.datasets import mnist\n",
        "from keras.utils import np_utils\n",
        "from keras.models import Sequential\n",
        "from keras.layers import Dense, Dropout, Flatten\n",
        "from keras.layers import Conv2D, MaxPooling2D\n",
        "from keras.preprocessing.image import load_img\n",
        "from keras.preprocessing.image import img_to_array\n",
        "from keras import backend as K\n",
        "from sklearn.model_selection import KFold"
      ]
    },
    {
      "cell_type": "markdown",
      "metadata": {
        "id": "a2rUpeUVqqOL"
      },
      "source": [
        "### Preprocessing the Data"
      ]
    },
    {
      "cell_type": "code",
      "execution_count": null,
      "metadata": {
        "colab": {
          "base_uri": "https://localhost:8080/"
        },
        "id": "4lOyzP09qqOM",
        "outputId": "aa81f72f-be02-4953-816f-03cc2989b0be"
      },
      "outputs": [
        {
          "name": "stdout",
          "output_type": "stream",
          "text": [
            "Downloading data from https://storage.googleapis.com/tensorflow/tf-keras-datasets/mnist.npz\n",
            "11493376/11490434 [==============================] - 0s 0us/step\n",
            "11501568/11490434 [==============================] - 0s 0us/step\n"
          ]
        }
      ],
      "source": [
        "(X_train,y_train),(X_test,y_test) = mnist.load_data()"
      ]
    },
    {
      "cell_type": "code",
      "execution_count": null,
      "metadata": {
        "colab": {
          "base_uri": "https://localhost:8080/"
        },
        "id": "mLY4ARNnqqON",
        "outputId": "ee914a51-b405-4e01-eaa6-bcb0f7ce2a3b"
      },
      "outputs": [
        {
          "name": "stdout",
          "output_type": "stream",
          "text": [
            "Shape of X train is:  (60000, 28, 28)\n",
            "Shape of y train is  (60000,)\n"
          ]
        }
      ],
      "source": [
        "print(\"Shape of X train is: \",X_train.shape)\n",
        "print(\"Shape of y train is \",y_train.shape)"
      ]
    },
    {
      "cell_type": "code",
      "execution_count": null,
      "metadata": {
        "id": "qeZ8iwfDqqOP"
      },
      "outputs": [],
      "source": [
        "num_classes = 10\n",
        "\n",
        "# reshaping dataset to have a single channel\n",
        "X_train = X_train.reshape(X_train.shape[0],28,28,1)\n",
        "X_test = X_test.reshape(X_test.shape[0],28,28,1)\n",
        "\n",
        "#one hot encode target values\n",
        "y_train = keras.utils.np_utils.to_categorical(y_train)\n",
        "y_test = keras.utils.np_utils.to_categorical(y_test)"
      ]
    },
    {
      "cell_type": "code",
      "execution_count": null,
      "metadata": {
        "colab": {
          "base_uri": "https://localhost:8080/"
        },
        "id": "GTorizx9vw8y",
        "outputId": "d9e1c1dd-dd8f-476b-81d0-e92745b1c6e1"
      },
      "outputs": [
        {
          "name": "stdout",
          "output_type": "stream",
          "text": [
            "Shape of train set:  (60000, 28, 28, 1)\n",
            "Shape of test set:  (10000, 28, 28, 1)\n"
          ]
        }
      ],
      "source": [
        "#Preparing pixel for data\n",
        "X_train = X_train.astype('float32')\n",
        "X_test = X_test.astype('float32')\n",
        "\n",
        "X_train = X_train/255.0\n",
        "X_test = X_test/255.0\n",
        "\n",
        "print(\"Shape of train set: \",X_train.shape)\n",
        "print(\"Shape of test set: \",X_test.shape)"
      ]
    },
    {
      "cell_type": "markdown",
      "metadata": {
        "id": "KmacrW9jqqOQ"
      },
      "source": [
        "### Creating the model"
      ]
    },
    {
      "cell_type": "code",
      "execution_count": 13,
      "metadata": {
        "id": "XRWIgV_OqqOS"
      },
      "outputs": [],
      "source": [
        "batch_size = 32\n",
        "num_classes = 10\n",
        "epochs = 10\n",
        "\n",
        "def create_model():\n",
        "  model = Sequential()\n",
        "  model.add(Conv2D(32, (3, 3), activation='relu', kernel_initializer='he_uniform', input_shape=(28, 28, 1)))\n",
        "  model.add(MaxPooling2D((2, 2)))\n",
        "  model.add(Conv2D(64, (3, 3), activation='relu', kernel_initializer='he_uniform'))\n",
        "  model.add(Conv2D(64, (3, 3), activation='relu', kernel_initializer='he_uniform'))\n",
        "  model.add(MaxPooling2D((2, 2)))\n",
        "  model.add(Flatten())\n",
        "  model.add(Dense(100, activation='relu', kernel_initializer='he_uniform'))\n",
        "  model.add(Dense(10, activation='softmax'))\n",
        "  \n",
        "  ### Compiling CNN\n",
        "  model.compile(loss='categorical_crossentropy',optimizer=tf.keras.optimizers.SGD(learning_rate=0.01,momentum=0.9),metrics=['accuracy'])\n",
        "  return model"
      ]
    },
    {
      "cell_type": "markdown",
      "metadata": {
        "id": "tbA9kdYLqqOU"
      },
      "source": [
        "### Train and evaluate the Model"
      ]
    },
    {
      "cell_type": "code",
      "execution_count": 14,
      "metadata": {
        "id": "wkSvY2MSqqOV"
      },
      "outputs": [],
      "source": [
        "def evaluation(dataX,dataY):\n",
        "  scores = []\n",
        "  history = []\n",
        "  prev = 0\n",
        "  kfold = KFold(5,shuffle=True, random_state=1)\n",
        "  #enumarte the splits\n",
        "  for ix_train, ix_test in kfold.split(dataX):\n",
        "    #define the model\n",
        "    model = create_model()\n",
        "    trainX,trainY,testX,testY = dataX[ix_train],dataY[ix_train],dataX[ix_test],dataY[ix_test]\n",
        "    #fit the model\n",
        "    hist = model.fit(trainX,trainY, epochs = 10, batch_size= 32, validation_data=(testX,testY),verbose=0)\n",
        "    _,acc = model.evaluate(testX,testY,verbose=0)\n",
        "    if(acc > prev):\n",
        "      model.save('mnist.h5')\n",
        "      prev = acc\n",
        "    print('> %.3f' % (acc*100.0))\n",
        "    #store results\n",
        "    scores.append(acc)\n",
        "    history.append(hist)\n",
        "  return scores,history"
      ]
    },
    {
      "cell_type": "markdown",
      "metadata": {
        "id": "gXzZxtUA3C_N"
      },
      "source": [
        "### Plotting learning curves"
      ]
    },
    {
      "cell_type": "code",
      "execution_count": 15,
      "metadata": {
        "id": "Ps8lUa7QqqOY"
      },
      "outputs": [],
      "source": [
        "def plotting_learn(histories):\n",
        "  for i in range(len(histories)):\n",
        "    plt.subplot(2,1,1)\n",
        "    plt.title('Cross Entropy Loss')\n",
        "    plt.plot(histories[i].history['loss'],color='blue', label='train')\n",
        "    plt.plot(histories[i].history['val_loss'],color='orange', label='test')\n",
        "\n",
        "    # plotting accuracy\n",
        "    plt.subplot(2,1,2)\n",
        "    plt.title('Classification Accuracy')\n",
        "    plt.plot(histories[i].history['accuracy'],color='blue',label='train')\n",
        "    plt.plot(histories[i].history['val_accuracy'],color='orange',label='test')\n",
        "  plt.show()"
      ]
    },
    {
      "cell_type": "markdown",
      "metadata": {
        "id": "_qthTIlL4VCe"
      },
      "source": [
        "### To make the model and evaluate"
      ]
    },
    {
      "cell_type": "code",
      "execution_count": 16,
      "metadata": {
        "colab": {
          "base_uri": "https://localhost:8080/",
          "height": 457
        },
        "id": "LcaHXrwg4nor",
        "outputId": "2edd3834-4034-49e6-84bc-28a869f05a65"
      },
      "outputs": [
        {
          "name": "stdout",
          "output_type": "stream",
          "text": [
            "> 99.025\n",
            "> 98.975\n",
            "> 99.075\n",
            "> 99.125\n",
            "> 99.042\n"
          ]
        },
        {
          "name": "stderr",
          "output_type": "stream",
          "text": [
            "/usr/local/lib/python3.7/dist-packages/ipykernel_launcher.py:3: MatplotlibDeprecationWarning: Adding an axes using the same arguments as a previous axes currently reuses the earlier instance.  In a future version, a new instance will always be created and returned.  Meanwhile, this warning can be suppressed, and the future behavior ensured, by passing a unique label to each axes instance.\n",
            "  This is separate from the ipykernel package so we can avoid doing imports until\n",
            "/usr/local/lib/python3.7/dist-packages/ipykernel_launcher.py:9: MatplotlibDeprecationWarning: Adding an axes using the same arguments as a previous axes currently reuses the earlier instance.  In a future version, a new instance will always be created and returned.  Meanwhile, this warning can be suppressed, and the future behavior ensured, by passing a unique label to each axes instance.\n",
            "  if __name__ == '__main__':\n"
          ]
        },
        {
          "data": {
            "image/png": "[encoded data removed]",
            "text/plain": [
              "<Figure size 432x288 with 2 Axes>"
            ]
          },
          "metadata": {
            "needs_background": "light"
          },
          "output_type": "display_data"
        }
      ],
      "source": [
        "def run_test():\n",
        "  scores,history = evaluation(X_train,y_train)\n",
        "  plotting_learn(history)\n",
        "\n",
        "run_test()"
      ]
    },
    {
      "cell_type": "markdown",
      "metadata": {
        "id": "RumD3Zu_Kjjv"
      },
      "source": [
        "### Saving Final Model"
      ]
    },
    {
      "cell_type": "code",
      "execution_count": 31,
      "metadata": {
        "id": "ZU7y7gG3J5Yo"
      },
      "outputs": [],
      "source": [
        "def run_test_final():\n",
        "  model = create_model()\n",
        "  model.fit(X_train,y_train,epochs=10,batch_size=32,verbose=0)\n",
        "  model.save('final_model.h5')"
      ]
    },
    {
      "cell_type": "code",
      "execution_count": 32,
      "metadata": {
        "id": "jfw3gU1JKlz8"
      },
      "outputs": [],
      "source": [
        "run_test_final()"
      ]
    },
    {
      "cell_type": "code",
      "execution_count": 33,
      "metadata": {
        "colab": {
          "base_uri": "https://localhost:8080/"
        },
        "id": "4Izu3GQnLT1s",
        "outputId": "4b81f654-0a57-40c1-8dac-569410417fb1"
      },
      "outputs": [
        {
          "name": "stdout",
          "output_type": "stream",
          "text": [
            "> 99.160\n"
          ]
        }
      ],
      "source": [
        "model = tf.keras.models.load_model(\"DigitRecog/final_model.h5\")\n",
        "_, acc = model.evaluate(X_test,y_test, verbose=0)\n",
        "print('> %.3f' % (acc * 100.0))"
      ]
    },
    {
      "cell_type": "markdown",
      "metadata": {
        "id": "Q5breaq0qqOZ"
      },
      "source": [
        "### Predicting a image"
      ]
    },
    {
      "cell_type": "code",
      "execution_count": 5,
      "metadata": {
        "colab": {
          "base_uri": "https://localhost:8080/"
        },
        "id": "jSqjmOLlqqOa",
        "outputId": "15d11928-4310-4751-981d-8432bd44a07c"
      },
      "outputs": [
        {
          "name": "stdout",
          "output_type": "stream",
          "text": [
            "7\n"
          ]
        }
      ],
      "source": [
        "model = tf.keras.models.load_model(\"C:/Users/shrey/OneDrive - Nanyang Technological University/Desktop/MLAI projects/DigitRecog/final_model.h5\")\n",
        "img = load_img(\"C:/Users/shrey/OneDrive - Nanyang Technological University/Desktop/MLAI projects/DigitRecog/Digit/7.png\",color_mode=\"grayscale\",target_size=(28,28))\n",
        "img = img_to_array(img)\n",
        "img = img.reshape(1,28,28,1)\n",
        "img = img.astype('float32')\n",
        "img = img/255\n",
        "predict = model.predict(img)\n",
        "digit = np.argmax(predict)\n",
        "print(digit)"
      ]
    },
    {
      "cell_type": "code",
      "execution_count": null,
      "metadata": {
        "id": "qu_D6w1ZqqOb"
      },
      "outputs": [],
      "source": []
    }
  ],
  "metadata": {
    "accelerator": "GPU",
    "colab": {
      "name": "digit.ipynb",
      "provenance": []
    },
    "interpreter": {
      "hash": "465c5b201858e001f3de52224df420302c022e48111b8e1e8429acbdd8e1444a"
    },
    "kernelspec": {
      "display_name": "Python 3.9.7 64-bit",
      "language": "python",
      "name": "python3"
    },
    "language_info": {
      "codemirror_mode": {
        "name": "ipython",
        "version": 3
      },
      "file_extension": ".py",
      "mimetype": "text/x-python",
      "name": "python",
      "nbconvert_exporter": "python",
      "pygments_lexer": "ipython3",
      "version": "3.9.7"
    }
  },
  "nbformat": 4,
  "nbformat_minor": 0
}
