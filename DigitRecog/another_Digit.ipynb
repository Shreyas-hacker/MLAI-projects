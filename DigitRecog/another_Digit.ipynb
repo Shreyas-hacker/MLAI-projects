{
 "cells": [
  {
   "cell_type": "markdown",
   "metadata": {},
   "source": [
    "### Importing the Dataset"
   ]
  },
  {
   "cell_type": "code",
   "execution_count": 1,
   "metadata": {},
   "outputs": [],
   "source": [
    "import os,json\n",
    "import cv2\n",
    "import numpy as np\n",
    "import pandas as pd\n",
    "import matplotlib.pyplot as plt\n",
    "import keras\n",
    "import tensorflow as tf\n",
    "from glob import glob\n",
    "from keras.datasets import mnist\n",
    "from keras.utils import np_utils\n",
    "from keras.models import Sequential\n",
    "from keras.layers import Dense, Dropout, Flatten\n",
    "from keras.layers import Conv2D, MaxPooling2D\n",
    "from keras.preprocessing.image import load_img\n",
    "from keras.preprocessing.image import img_to_array\n",
    "from keras import backend as K\n",
    "from sklearn.model_selection import KFold"
   ]
  },
  {
   "cell_type": "code",
   "execution_count": 3,
   "metadata": {},
   "outputs": [
    {
     "name": "stdout",
     "output_type": "stream",
     "text": [
      "2.7.0\n",
      "2.7.0\n"
     ]
    }
   ],
   "source": [
    "print(tf.keras.__version__)\n",
    "print(tf.__version__)"
   ]
  },
  {
   "cell_type": "markdown",
   "metadata": {},
   "source": [
    "### Processing the Data"
   ]
  },
  {
   "cell_type": "code",
   "execution_count": 20,
   "metadata": {},
   "outputs": [],
   "source": [
    "path = \"C:/Users/shrey/OneDrive - Nanyang Technological University/Desktop/MLAI projects/DigitRecog/Dataset/trainingSet/trainingSet/\"\n",
    "path2 = \"C:/Users/shrey/OneDrive - Nanyang Technological University/Desktop/MLAI project/DigitRecog/Dataset/testSet/testSet/\""
   ]
  },
  {
   "cell_type": "code",
   "execution_count": 21,
   "metadata": {},
   "outputs": [
    {
     "name": "stdout",
     "output_type": "stream",
     "text": [
      "                                            filename class_name  class\n",
      "0  C:\\Users\\shrey\\OneDrive - Nanyang Technologica...          5      5\n",
      "1  C:\\Users\\shrey\\OneDrive - Nanyang Technologica...          6      6\n",
      "2  C:\\Users\\shrey\\OneDrive - Nanyang Technologica...          7      7\n",
      "3  C:\\Users\\shrey\\OneDrive - Nanyang Technologica...          4      4\n",
      "4  C:\\Users\\shrey\\OneDrive - Nanyang Technologica...          5      5\n",
      "42000\n"
     ]
    },
    {
     "data": {
      "text/plain": [
       "filename        object\n",
       "class_name    category\n",
       "class             int8\n",
       "dtype: object"
      ]
     },
     "execution_count": 21,
     "metadata": {},
     "output_type": "execute_result"
    }
   ],
   "source": [
    "img_width, img_height = 28,28\n",
    "\n",
    "data = []\n",
    "for root,dirs,files in os.walk(path,topdown=True):\n",
    "    for name in files:\n",
    "        if '.jpeg' not in name:\n",
    "            continue\n",
    "        filename = os.path.abspath(os.path.join(root,name))\n",
    "        class_name = name[4:5]\n",
    "        data.append((filename,class_name))\n",
    "\n",
    "df = pd.DataFrame(data,columns=['filename','class_name'])\n",
    "df['class_name'] = df['class_name'].astype('category')\n",
    "df['class'] = df['class_name'].cat.codes\n",
    "\n",
    "df = df.sample(frac=1).reset_index(drop=True)\n",
    "print(df.head())\n",
    "print(len(df))\n",
    "df.dtypes"
   ]
  },
  {
   "cell_type": "code",
   "execution_count": 22,
   "metadata": {},
   "outputs": [
    {
     "data": {
      "text/plain": [
       "(42000, 3)"
      ]
     },
     "execution_count": 22,
     "metadata": {},
     "output_type": "execute_result"
    }
   ],
   "source": [
    "df.shape"
   ]
  },
  {
   "cell_type": "code",
   "execution_count": null,
   "metadata": {},
   "outputs": [],
   "source": [
    "#for training set\n",
    "data2 = []\n",
    "for root,dirs,files in os.walk(path2,topdown=True):\n",
    "    for name in files:\n",
    "        if'.jpeg' not in name:\n",
    "            continue\n",
    "        filename = os.path.abspath(os.path.join(root,name))\n",
    "        class_name = name[4:5]\n",
    "        data2.append((filename, class_name))\n",
    "        \n",
    "df2 = pd.DataFrame(data2, columns=['filename','class_name'])\n",
    "df2['class_name'] = df2['class_name'].astype('category')\n",
    "df2['class'] = df2['class_name'].cat.codes\n",
    "\n",
    "#shuffle\n",
    "df2 = df2.sample(frac=1).reset_index(drop=True)\n",
    "\n",
    "print(df2.head())\n",
    "print(len(df2))\n",
    "df2.dtypes"
   ]
  }
 ],
 "metadata": {
  "interpreter": {
   "hash": "465c5b201858e001f3de52224df420302c022e48111b8e1e8429acbdd8e1444a"
  },
  "kernelspec": {
   "display_name": "Python 3.9.7 64-bit",
   "language": "python",
   "name": "python3"
  },
  "language_info": {
   "codemirror_mode": {
    "name": "ipython",
    "version": 3
   },
   "file_extension": ".py",
   "mimetype": "text/x-python",
   "name": "python",
   "nbconvert_exporter": "python",
   "pygments_lexer": "ipython3",
   "version": "3.9.7"
  },
  "orig_nbformat": 4
 },
 "nbformat": 4,
 "nbformat_minor": 2
}
