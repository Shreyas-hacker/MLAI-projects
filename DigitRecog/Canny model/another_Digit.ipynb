{
 "cells": [
  {
   "cell_type": "markdown",
   "metadata": {},
   "source": [
    "### Importing the Dataset"
   ]
  },
  {
   "cell_type": "code",
   "execution_count": 1,
   "metadata": {},
   "outputs": [],
   "source": [
    "import os,json\n",
    "import cv2\n",
    "import numpy as np\n",
    "import pandas as pd\n",
    "import matplotlib.pyplot as plt\n",
    "import keras\n",
    "import tensorflow as tf\n",
    "from glob import glob\n",
    "from keras.datasets import mnist\n",
    "from keras.utils import np_utils\n",
    "from keras.models import Sequential\n",
    "from keras.layers import Dense, Dropout, Flatten\n",
    "from keras.layers import Conv2D, MaxPooling2D\n",
    "from keras.preprocessing.image import load_img\n",
    "from keras.preprocessing.image import img_to_array\n",
    "from keras import backend as K\n",
    "from sklearn.model_selection import KFold\n",
    "from PIL import Image"
   ]
  },
  {
   "cell_type": "code",
   "execution_count": 2,
   "metadata": {},
   "outputs": [
    {
     "name": "stdout",
     "output_type": "stream",
     "text": [
      "2.7.0\n",
      "2.7.0\n"
     ]
    }
   ],
   "source": [
    "print(tf.keras.__version__)\n",
    "print(tf.__version__)"
   ]
  },
  {
   "cell_type": "markdown",
   "metadata": {},
   "source": [
    "### Processing the Data"
   ]
  },
  {
   "cell_type": "code",
   "execution_count": 3,
   "metadata": {},
   "outputs": [],
   "source": [
    "path = \"C:/Users/shrey/OneDrive - Nanyang Technological University/Desktop/MLAI projects/DigitRecog/Dataset/trainingSet/trainingSet/FinalSet/\"\n",
    "path2 = \"C:/Users/shrey/OneDrive - Nanyang Technological University/Desktop/MLAI projects/DigitRecog/Dataset/testSet/final_test/\""
   ]
  },
  {
   "cell_type": "code",
   "execution_count": 4,
   "metadata": {},
   "outputs": [
    {
     "name": "stdout",
     "output_type": "stream",
     "text": [
      "                                            filename class_name  class\n",
      "0  C:\\Users\\shrey\\OneDrive - Nanyang Technologica...          2      2\n",
      "1  C:\\Users\\shrey\\OneDrive - Nanyang Technologica...          8      8\n",
      "2  C:\\Users\\shrey\\OneDrive - Nanyang Technologica...          3      3\n",
      "3  C:\\Users\\shrey\\OneDrive - Nanyang Technologica...          7      7\n",
      "4  C:\\Users\\shrey\\OneDrive - Nanyang Technologica...          2      2\n",
      "60000\n"
     ]
    },
    {
     "data": {
      "text/plain": [
       "filename        object\n",
       "class_name    category\n",
       "class             int8\n",
       "dtype: object"
      ]
     },
     "execution_count": 4,
     "metadata": {},
     "output_type": "execute_result"
    }
   ],
   "source": [
    "img_width, img_height = 28,28\n",
    "\n",
    "data = []\n",
    "for root,dirs,files in os.walk(path,topdown=True):\n",
    "    for name in files:\n",
    "        if '.jpeg' not in name:\n",
    "            continue\n",
    "        filename = os.path.abspath(os.path.join(root,name))\n",
    "        class_name = name[0]\n",
    "        data.append((filename,class_name))\n",
    "\n",
    "df = pd.DataFrame(data,columns=['filename','class_name'])\n",
    "df['class_name'] = df['class_name'].astype('category')\n",
    "df['class'] = df['class_name'].cat.codes\n",
    "\n",
    "df = df.sample(frac=1).reset_index(drop=True)\n",
    "print(df.head())\n",
    "print(len(df))\n",
    "df.dtypes"
   ]
  },
  {
   "cell_type": "code",
   "execution_count": 5,
   "metadata": {},
   "outputs": [
    {
     "data": {
      "text/plain": [
       "(60000, 3)"
      ]
     },
     "execution_count": 5,
     "metadata": {},
     "output_type": "execute_result"
    }
   ],
   "source": [
    "df.shape"
   ]
  },
  {
   "cell_type": "code",
   "execution_count": 6,
   "metadata": {},
   "outputs": [
    {
     "name": "stdout",
     "output_type": "stream",
     "text": [
      "                                            filename class_name  class\n",
      "0  C:\\Users\\shrey\\OneDrive - Nanyang Technologica...          8      8\n",
      "1  C:\\Users\\shrey\\OneDrive - Nanyang Technologica...          3      3\n",
      "2  C:\\Users\\shrey\\OneDrive - Nanyang Technologica...          3      3\n",
      "3  C:\\Users\\shrey\\OneDrive - Nanyang Technologica...          2      2\n",
      "4  C:\\Users\\shrey\\OneDrive - Nanyang Technologica...          0      0\n",
      "10000\n"
     ]
    },
    {
     "data": {
      "text/plain": [
       "filename        object\n",
       "class_name    category\n",
       "class             int8\n",
       "dtype: object"
      ]
     },
     "execution_count": 6,
     "metadata": {},
     "output_type": "execute_result"
    }
   ],
   "source": [
    "#for training set\n",
    "data2 = []\n",
    "for root,dirs,files in os.walk(path2,topdown=True):\n",
    "    for name in files:\n",
    "        if'.jpeg' not in name:\n",
    "            continue\n",
    "        filename = os.path.abspath(os.path.join(root,name))\n",
    "        class_name = name[10]\n",
    "        data2.append((filename, class_name))\n",
    "        \n",
    "df2 = pd.DataFrame(data2, columns=['filename','class_name'])\n",
    "df2['class_name'] = df2['class_name'].astype('category')\n",
    "df2['class'] = df2['class_name'].cat.codes\n",
    "\n",
    "#shuffle\n",
    "df2 = df2.sample(frac=1).reset_index(drop=True)\n",
    "\n",
    "print(df2.head())\n",
    "print(len(df2))\n",
    "df2.dtypes"
   ]
  },
  {
   "cell_type": "code",
   "execution_count": 7,
   "metadata": {},
   "outputs": [
    {
     "data": {
      "text/plain": [
       "(10000, 3)"
      ]
     },
     "execution_count": 7,
     "metadata": {},
     "output_type": "execute_result"
    }
   ],
   "source": [
    "df2.shape"
   ]
  },
  {
   "cell_type": "markdown",
   "metadata": {},
   "source": [
    "### Make the pipeline for laoding and resizing the images\n",
    "\n",
    "#### Image Resizing and Decoding"
   ]
  },
  {
   "cell_type": "code",
   "execution_count": 8,
   "metadata": {},
   "outputs": [],
   "source": [
    "X_train = []\n",
    "for i in df['filename']:\n",
    "    img = Image.open(i)\n",
    "    X_train.append(np.asarray(img))\n",
    "\n",
    "X_train = np.array(X_train)"
   ]
  },
  {
   "cell_type": "code",
   "execution_count": 9,
   "metadata": {},
   "outputs": [
    {
     "name": "stdout",
     "output_type": "stream",
     "text": [
      "Shape of X train is:  (60000, 28, 28)\n",
      "Shape of y train is  (60000,)\n"
     ]
    }
   ],
   "source": [
    "y_train = []\n",
    "for i in df['class']:\n",
    "    y_train.append(i)\n",
    "\n",
    "y_train = np.array(y_train)\n",
    "print(\"Shape of X train is: \",X_train.shape)\n",
    "print(\"Shape of y train is \",y_train.shape)"
   ]
  },
  {
   "cell_type": "code",
   "execution_count": 10,
   "metadata": {},
   "outputs": [],
   "source": [
    "X_test = []\n",
    "for i in df2['filename']:\n",
    "    img = Image.open(i)\n",
    "    X_test.append(np.asarray(img))\n",
    "\n",
    "X_test = np.array(X_test)"
   ]
  },
  {
   "cell_type": "code",
   "execution_count": 11,
   "metadata": {},
   "outputs": [
    {
     "name": "stdout",
     "output_type": "stream",
     "text": [
      "Shape of X train is:  (10000, 28, 28)\n",
      "Shape of y train is  (10000,)\n"
     ]
    }
   ],
   "source": [
    "y_test = []\n",
    "for i in df2['class']:\n",
    "    y_test.append(i)\n",
    "\n",
    "y_test = np.array(y_test)\n",
    "print(\"Shape of X train is: \",X_test.shape)\n",
    "print(\"Shape of y train is \",y_test.shape)"
   ]
  },
  {
   "cell_type": "code",
   "execution_count": 12,
   "metadata": {},
   "outputs": [
    {
     "name": "stdout",
     "output_type": "stream",
     "text": [
      "Shape of train set:  (60000, 28, 28, 1)\n",
      "Shape of test set:  (10000, 28, 28, 1)\n"
     ]
    }
   ],
   "source": [
    "num_classes = 10\n",
    "\n",
    "# reshaping dataset to have a single channel\n",
    "X_train = X_train.reshape(X_train.shape[0],28,28,1)\n",
    "X_test = X_test.reshape(X_test.shape[0],28,28,1)\n",
    "\n",
    "#one hot encode target values\n",
    "y_train = keras.utils.np_utils.to_categorical(y_train)\n",
    "y_test = keras.utils.np_utils.to_categorical(y_test)\n",
    "\n",
    "#Preparing pixel for data\n",
    "X_train = X_train.astype('float32')\n",
    "X_test = X_test.astype('float32')\n",
    "\n",
    "X_train = X_train/255.0\n",
    "X_test = X_test/255.0\n",
    "\n",
    "print(\"Shape of train set: \",X_train.shape)\n",
    "print(\"Shape of test set: \",X_test.shape)"
   ]
  },
  {
   "cell_type": "markdown",
   "metadata": {},
   "source": [
    "### Creating the model"
   ]
  },
  {
   "cell_type": "code",
   "execution_count": 13,
   "metadata": {},
   "outputs": [],
   "source": [
    "epochs = 10\n",
    "\n",
    "def create_model():\n",
    "  model = Sequential()\n",
    "  model.add(Conv2D(32, (3, 3), activation='relu', kernel_initializer='he_uniform', input_shape=(28, 28, 1)))\n",
    "  model.add(MaxPooling2D((2, 2)))\n",
    "  model.add(Conv2D(64, (3, 3), activation='relu', kernel_initializer='he_uniform'))\n",
    "  model.add(Conv2D(64, (3, 3), activation='relu', kernel_initializer='he_uniform'))\n",
    "  model.add(MaxPooling2D((2, 2)))\n",
    "  model.add(Flatten())\n",
    "  model.add(Dense(100, activation='relu', kernel_initializer='he_uniform'))\n",
    "  model.add(Dense(10, activation='softmax'))\n",
    "  \n",
    "  ### Compiling CNN\n",
    "  model.compile(loss='categorical_crossentropy',optimizer=tf.keras.optimizers.SGD(learning_rate=0.01, decay=1e-6, momentum=0.9,nesterov=True),metrics=['accuracy'])\n",
    "  return model"
   ]
  },
  {
   "cell_type": "markdown",
   "metadata": {},
   "source": [
    "### Train and evaluate the model"
   ]
  },
  {
   "cell_type": "code",
   "execution_count": 14,
   "metadata": {},
   "outputs": [],
   "source": [
    "def evaluation(dataX,dataY):\n",
    "  scores = []\n",
    "  history = []\n",
    "  prev = 0\n",
    "  kfold = KFold(5,shuffle=True, random_state=1)\n",
    "  #enumarte the splits\n",
    "  for ix_train, ix_test in kfold.split(dataX):\n",
    "    #define the model\n",
    "    model = create_model()\n",
    "    trainX,trainY,testX,testY = dataX[ix_train],dataY[ix_train],dataX[ix_test],dataY[ix_test]\n",
    "    #fit the model\n",
    "    hist = model.fit(trainX,trainY, epochs = 10, batch_size= 32, validation_data=(testX,testY),verbose=0)\n",
    "    _,acc = model.evaluate(testX,testY,verbose=0)\n",
    "    if(acc > prev):\n",
    "      model.save('canny_model.h5')\n",
    "      prev = acc\n",
    "    print('> %.3f' % (acc*100.0))\n",
    "    #store results\n",
    "    scores.append(acc)\n",
    "    history.append(hist)\n",
    "  return scores,history"
   ]
  },
  {
   "cell_type": "markdown",
   "metadata": {},
   "source": [
    "### Plotting learning curves"
   ]
  },
  {
   "cell_type": "code",
   "execution_count": 15,
   "metadata": {},
   "outputs": [],
   "source": [
    "def plotting_learn(histories):\n",
    "  for i in range(len(histories)):\n",
    "    plt.subplot(2,1,1)\n",
    "    plt.title('Cross Entropy Loss')\n",
    "    plt.plot(histories[i].history['loss'],color='blue', label='train')\n",
    "    plt.plot(histories[i].history['val_loss'],color='orange', label='test')\n",
    "\n",
    "    # plotting accuracy\n",
    "    plt.subplot(2,1,2)\n",
    "    plt.title('Classification Accuracy')\n",
    "    plt.plot(histories[i].history['accuracy'],color='blue',label='train')\n",
    "    plt.plot(histories[i].history['val_accuracy'],color='orange',label='test')\n",
    "  plt.show()"
   ]
  },
  {
   "cell_type": "code",
   "execution_count": 16,
   "metadata": {},
   "outputs": [
    {
     "name": "stderr",
     "output_type": "stream",
     "text": [
      "c:\\Users\\shrey\\AppData\\Local\\Programs\\Python\\Python39\\lib\\site-packages\\keras\\optimizer_v2\\gradient_descent.py:102: UserWarning: The `lr` argument is deprecated, use `learning_rate` instead.\n",
      "  super(SGD, self).__init__(name, **kwargs)\n"
     ]
    },
    {
     "name": "stdout",
     "output_type": "stream",
     "text": [
      "> 98.750\n",
      "> 98.592\n",
      "> 98.908\n",
      "> 98.642\n",
      "> 98.775\n"
     ]
    },
    {
     "data": {
      "image/png": "[encoded data removed]",
      "text/plain": [
       "<Figure size 432x288 with 2 Axes>"
      ]
     },
     "metadata": {
      "needs_background": "light"
     },
     "output_type": "display_data"
    }
   ],
   "source": [
    "def run_test():\n",
    "  scores,history = evaluation(X_train,y_train)\n",
    "  plotting_learn(history)\n",
    "\n",
    "run_test()"
   ]
  },
  {
   "cell_type": "markdown",
   "metadata": {},
   "source": [
    "### Saving Final Model"
   ]
  },
  {
   "cell_type": "code",
   "execution_count": 17,
   "metadata": {},
   "outputs": [],
   "source": [
    "def run_test_final():\n",
    "  model = create_model()\n",
    "  model.fit(X_train,y_train,epochs=10,batch_size=32,verbose=0)\n",
    "  model.save('canny_model.h5')"
   ]
  },
  {
   "cell_type": "code",
   "execution_count": 18,
   "metadata": {},
   "outputs": [],
   "source": [
    "run_test_final()"
   ]
  },
  {
   "cell_type": "code",
   "execution_count": 21,
   "metadata": {},
   "outputs": [
    {
     "name": "stdout",
     "output_type": "stream",
     "text": [
      "> 99.690\n"
     ]
    }
   ],
   "source": [
    "model = tf.keras.models.load_model(\"C:/Users/shrey/OneDrive - Nanyang Technological University/Desktop/MLAI projects/DigitRecog/Canny model/canny_model.h5\")\n",
    "_, acc = model.evaluate(X_test,y_test, verbose=0)\n",
    "print('> %.3f' % (acc * 100.0))"
   ]
  },
  {
   "cell_type": "markdown",
   "metadata": {},
   "source": [
    "### Predicting a handwritten image"
   ]
  },
  {
   "cell_type": "code",
   "execution_count": 36,
   "metadata": {},
   "outputs": [
    {
     "name": "stdout",
     "output_type": "stream",
     "text": [
      "Accuracy of model on unseen images: 77.77777777777779%\n"
     ]
    }
   ],
   "source": [
    "number = 0\n",
    "correct = 0\n",
    "while number != 10:\n",
    "    if number == 7:\n",
    "        number += 1\n",
    "        continue\n",
    "    path = f'C:/Users/shrey/OneDrive - Nanyang Technological University/Desktop/MLAI projects/DigitRecog/Digit/{number}.png'\n",
    "    img=cv2.imread(path)\n",
    "    img=cv2.resize(img, (28, 28))\n",
    "    img_gray = cv2.cvtColor(img,cv2.COLOR_BGR2GRAY)\n",
    "    img_blur = cv2.GaussianBlur(img_gray,(3,3), 0)\n",
    "    edges = cv2.Canny(image=img_blur, threshold1=100,threshold2=200)\n",
    "    img_first_array = img_to_array(edges)\n",
    "    img_array = img_first_array.reshape(1,28,28,1)\n",
    "    img = img_array.astype('float32')\n",
    "    img = img/255\n",
    "    predict = model.predict(img)\n",
    "    digit = np.argmax(predict)\n",
    "    if digit == number:\n",
    "        correct += 1\n",
    "    number+=1\n",
    "\n",
    "print(f\"Correct number of predictions: {correct}\")\n",
    "print(f\"Accuracy of model on unseen images: {(correct/9)*100}%\")"
   ]
  },
  {
   "cell_type": "code",
   "execution_count": null,
   "metadata": {},
   "outputs": [],
   "source": []
  }
 ],
 "metadata": {
  "interpreter": {
   "hash": "7fc781d734b03aaf50649f51b85f1717dd603f36c3b9d01c30fafc7d1f894df4"
  },
  "kernelspec": {
   "display_name": "Python 3.9.7 64-bit",
   "language": "python",
   "name": "python3"
  },
  "language_info": {
   "codemirror_mode": {
    "name": "ipython",
    "version": 3
   },
   "file_extension": ".py",
   "mimetype": "text/x-python",
   "name": "python",
   "nbconvert_exporter": "python",
   "pygments_lexer": "ipython3",
   "version": "3.9.7"
  },
  "orig_nbformat": 4
 },
 "nbformat": 4,
 "nbformat_minor": 2
}
